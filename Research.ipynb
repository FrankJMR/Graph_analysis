{
 "cells": [
  {
   "cell_type": "code",
   "execution_count": 1,
   "metadata": {},
   "outputs": [],
   "source": [
    "import numpy as np\n",
    "#custom import file to clean up code\n",
    "from Resources import utils"
   ]
  },
  {
   "cell_type": "markdown",
   "metadata": {},
   "source": [
    "<H2> Adjacency Matrix "
   ]
  },
  {
   "cell_type": "code",
   "execution_count": 2,
   "metadata": {},
   "outputs": [],
   "source": [
    "Graph_A= np.array([[0,1,0,0,0,0],[0,0,1,0,0,0],[0,0,0,0,0,0],[0,0,0,0,0,0],[0,0,0,1,0,0],[0,0,0,1,0,0]])"
   ]
  },
  {
   "cell_type": "markdown",
   "metadata": {},
   "source": [
    "<H2> Graph"
   ]
  },
  {
   "cell_type": "code",
   "execution_count": 3,
   "metadata": {},
   "outputs": [
    {
     "data": {
      "image/png": "[encoded data removed]",
      "text/plain": [
       "<Figure size 432x288 with 1 Axes>"
      ]
     },
     "metadata": {},
     "output_type": "display_data"
    }
   ],
   "source": [
    "G = utils.graph(Graph_A)"
   ]
  },
  {
   "cell_type": "code",
   "execution_count": 4,
   "metadata": {
    "scrolled": true
   },
   "outputs": [],
   "source": [
    "dataframe = utils.get_centrality(G)"
   ]
  },
  {
   "cell_type": "code",
   "execution_count": 5,
   "metadata": {},
   "outputs": [],
   "source": [
    "data = utils.get_data(\"Graphs.csv\")"
   ]
  },
  {
   "cell_type": "code",
   "execution_count": 6,
   "metadata": {},
   "outputs": [
    {
     "name": "stdout",
     "output_type": "stream",
     "text": [
      "    0   0   0.1   0.2   0.3   0.4   0.5   0.6   \n",
      "0   0   0     0     0     0     0     0     0   \n",
      "1   1   0     0     0     1     0     0     0   \n",
      "2   0   0     0     0     0     0     0     1   \n",
      "3   0   0     0     0     0     0     0     0   \n",
      "4   0   0     0     0     0     0     0     1   \n",
      "5   0   0     1     0     0     0     0     0   \n",
      "7   0   0     0     0     0     0     0     0   \n",
      "8   0   0     0     0     0     0     0     0   \n",
      "9   0   1     0     0     0     0     0     0   \n",
      "10  1   0     1     0     0     0     0     0   \n",
      "11  0   0     0     0     0     1     0     0   \n",
      "12  0   0     0     0     0     0     1     1   \n",
      "13  0   0     0     0     0     0     0     0   \n",
      "14  0   0     0     0     0     0     0     0   \n",
      "15  0   1     0     0     0     0     0     0   \n",
      "16  0   0     0     0     0     0     0     0   \n",
      "17  0   0     0     1     0     0     0     0   \n",
      "18  0   1     0     0     0     0     0     0   \n",
      "19  0   0     0     0     0     1     0     0   \n",
      "20  0   0     0     0     0     0     0     1   \n",
      "21  0   0     0     0     0     0     0     1   \n"
     ]
    }
   ],
   "source": [
    "print(data)"
   ]
  },
  {
   "cell_type": "code",
   "execution_count": null,
   "metadata": {},
   "outputs": [],
   "source": []
  }
 ],
 "metadata": {
  "kernelspec": {
   "display_name": "Python 3",
   "language": "python",
   "name": "python3"
  },
  "language_info": {
   "codemirror_mode": {
    "name": "ipython",
    "version": 3
   },
   "file_extension": ".py",
   "mimetype": "text/x-python",
   "name": "python",
   "nbconvert_exporter": "python",
   "pygments_lexer": "ipython3",
   "version": "3.7.4"
  }
 },
 "nbformat": 4,
 "nbformat_minor": 2
}
